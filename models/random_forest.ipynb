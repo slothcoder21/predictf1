{
 "cells": [
  {
   "cell_type": "code",
   "execution_count": 1,
   "metadata": {},
   "outputs": [],
   "source": [
    "import numpy as np\n",
    "import pandas as pd\n",
    "import matplotlib.pyplot as plt\n",
    "import seaborn as sns\n",
    "import pickle\n",
    "\n",
    "from sklearn.model_selection import train_test_split\n",
    "from sklearn.ensemble import RandomForestClassifier\n",
    "from sklearn.metrics import accuracy_score, classification_report\n",
    "from sklearn.preprocessing import StandardScaler\n",
    "from sklearn.linear_model import LogisticRegression"
   ]
  },
  {
   "cell_type": "markdown",
   "metadata": {},
   "source": [
    "### Data Preprocessing and Cleaning"
   ]
  },
  {
   "cell_type": "code",
   "execution_count": 3,
   "metadata": {},
   "outputs": [],
   "source": [
    "results = pd.read_csv(r'../datasets/results.csv')\n",
    "races = pd.read_csv(r'../datasets/races.csv')\n",
    "drivers = pd.read_csv(r'../datasets/drivers.csv')\n",
    "constructors = pd.read_csv(r'../datasets/constructors.csv')\n",
    "circuits = pd.read_csv(r'../datasets/circuits.csv')\n",
    "qualifying = pd.read_csv(r'../datasets/qualifying.csv')"
   ]
  },
  {
   "cell_type": "code",
   "execution_count": 12,
   "metadata": {},
   "outputs": [
    {
     "name": "stdout",
     "output_type": "stream",
     "text": [
      "['raceId', 'year', 'round', 'circuitId', 'name_x', 'date', 'time_x', 'fp1_date', 'fp1_time', 'fp2_date', 'fp2_time', 'fp3_date', 'fp3_time', 'quali_date', 'quali_time', 'sprint_date', 'sprint_time', 'resultId', 'driverId', 'constructorId', 'number_x', 'grid', 'position_x', 'positionText', 'positionOrder', 'points', 'laps', 'time_y', 'milliseconds', 'fastestLap', 'rank', 'fastestLapTime', 'fastestLapSpeed', 'statusId', 'qualifyId', 'number_y', 'position_y', 'q1', 'q2', 'q3', 'driverRef', 'number', 'code', 'forename', 'surname', 'dob', 'nationality_x', 'constructorRef', 'name_y', 'nationality_y', 'url_x', 'circuitRef', 'name', 'location', 'country', 'lat', 'lng', 'alt', 'url_y']\n"
     ]
    }
   ],
   "source": [
    "df1 = pd.merge(races,results,how='inner',on=['raceId'])\n",
    "df2 = pd.merge(df1,qualifying,how='inner',on=['raceId','driverId','constructorId'])\n",
    "df3 = pd.merge(df2,drivers,how='inner',on=['driverId'])\n",
    "df4 = pd.merge(df3,constructors,how='inner',on=['constructorId'])\n",
    "\n",
    "df4.drop(['url_x','url_y'],axis=1,inplace=True)\n",
    "\n",
    "df5 = pd.merge(df4,circuits,how='inner',on=['circuitId'])\n",
    "\n",
    "column_names = df5.columns.tolist()\n",
    "print(column_names)"
   ]
  },
  {
   "cell_type": "code",
   "execution_count": 14,
   "metadata": {},
   "outputs": [],
   "source": [
    "data = df5.drop(['round', 'circuitId', 'time_x', 'url_x', 'resultId', 'driverId', 'constructorId', 'time_y', 'url_y',\n",
    "                 'number_x', 'number_y', 'position_x', 'positionText', 'positionOrder', 'laps', 'rank', 'fastestLapTime',\n",
    "                 'fastestLapSpeed', 'qualifyId','position_y', 'q1','q2','q3', 'driverRef', 'number','code', 'dob',\n",
    "                 'number_y', 'name_y','lat','lng','alt', 'fp1_time','fp2_time','fp3_time','quali_time','sprint_time',\n",
    "                 'fp1_date','fp2_date','fp3_date','quali_date','sprint_date', 'nationality_y', 'constructorRef'], axis=1)"
   ]
  },
  {
   "cell_type": "code",
   "execution_count": 15,
   "metadata": {},
   "outputs": [],
   "source": [
    "data = data[data['year'] >= 1980]"
   ]
  },
  {
   "cell_type": "code",
   "execution_count": 16,
   "metadata": {},
   "outputs": [
    {
     "name": "stdout",
     "output_type": "stream",
     "text": [
      "['raceId', 'year', 'name_x', 'date', 'grid', 'points', 'milliseconds', 'fastestLap', 'statusId', 'forename', 'surname', 'nationality_x', 'circuitRef', 'name', 'location', 'country']\n"
     ]
    }
   ],
   "source": [
    "column_names = data.columns.tolist()\n",
    "print(column_names)"
   ]
  },
  {
   "cell_type": "code",
   "execution_count": 8,
   "metadata": {},
   "outputs": [
    {
     "data": {
      "text/html": [
       "<div>\n",
       "<style scoped>\n",
       "    .dataframe tbody tr th:only-of-type {\n",
       "        vertical-align: middle;\n",
       "    }\n",
       "\n",
       "    .dataframe tbody tr th {\n",
       "        vertical-align: top;\n",
       "    }\n",
       "\n",
       "    .dataframe thead th {\n",
       "        text-align: right;\n",
       "    }\n",
       "</style>\n",
       "<table border=\"1\" class=\"dataframe\">\n",
       "  <thead>\n",
       "    <tr style=\"text-align: right;\">\n",
       "      <th></th>\n",
       "      <th>raceId</th>\n",
       "      <th>year</th>\n",
       "      <th>name_x</th>\n",
       "      <th>date</th>\n",
       "      <th>grid</th>\n",
       "      <th>points</th>\n",
       "      <th>milliseconds</th>\n",
       "      <th>fastestLap</th>\n",
       "      <th>statusId</th>\n",
       "      <th>forename</th>\n",
       "      <th>surname</th>\n",
       "      <th>nationality_x</th>\n",
       "      <th>circuitRef</th>\n",
       "      <th>name</th>\n",
       "      <th>location</th>\n",
       "      <th>country</th>\n",
       "    </tr>\n",
       "  </thead>\n",
       "  <tbody>\n",
       "    <tr>\n",
       "      <th>0</th>\n",
       "      <td>1</td>\n",
       "      <td>2009</td>\n",
       "      <td>Australian Grand Prix</td>\n",
       "      <td>2009-03-29</td>\n",
       "      <td>1</td>\n",
       "      <td>10.0</td>\n",
       "      <td>5655784</td>\n",
       "      <td>17</td>\n",
       "      <td>1</td>\n",
       "      <td>Jenson</td>\n",
       "      <td>Button</td>\n",
       "      <td>British</td>\n",
       "      <td>albert_park</td>\n",
       "      <td>Albert Park Grand Prix Circuit</td>\n",
       "      <td>Melbourne</td>\n",
       "      <td>Australia</td>\n",
       "    </tr>\n",
       "    <tr>\n",
       "      <th>1</th>\n",
       "      <td>1</td>\n",
       "      <td>2009</td>\n",
       "      <td>Australian Grand Prix</td>\n",
       "      <td>2009-03-29</td>\n",
       "      <td>2</td>\n",
       "      <td>8.0</td>\n",
       "      <td>5656591</td>\n",
       "      <td>43</td>\n",
       "      <td>1</td>\n",
       "      <td>Rubens</td>\n",
       "      <td>Barrichello</td>\n",
       "      <td>Brazilian</td>\n",
       "      <td>albert_park</td>\n",
       "      <td>Albert Park Grand Prix Circuit</td>\n",
       "      <td>Melbourne</td>\n",
       "      <td>Australia</td>\n",
       "    </tr>\n",
       "    <tr>\n",
       "      <th>2</th>\n",
       "      <td>1</td>\n",
       "      <td>2009</td>\n",
       "      <td>Australian Grand Prix</td>\n",
       "      <td>2009-03-29</td>\n",
       "      <td>20</td>\n",
       "      <td>6.0</td>\n",
       "      <td>5657388</td>\n",
       "      <td>50</td>\n",
       "      <td>1</td>\n",
       "      <td>Jarno</td>\n",
       "      <td>Trulli</td>\n",
       "      <td>Italian</td>\n",
       "      <td>albert_park</td>\n",
       "      <td>Albert Park Grand Prix Circuit</td>\n",
       "      <td>Melbourne</td>\n",
       "      <td>Australia</td>\n",
       "    </tr>\n",
       "    <tr>\n",
       "      <th>3</th>\n",
       "      <td>1</td>\n",
       "      <td>2009</td>\n",
       "      <td>Australian Grand Prix</td>\n",
       "      <td>2009-03-29</td>\n",
       "      <td>19</td>\n",
       "      <td>5.0</td>\n",
       "      <td>5660219</td>\n",
       "      <td>53</td>\n",
       "      <td>1</td>\n",
       "      <td>Timo</td>\n",
       "      <td>Glock</td>\n",
       "      <td>German</td>\n",
       "      <td>albert_park</td>\n",
       "      <td>Albert Park Grand Prix Circuit</td>\n",
       "      <td>Melbourne</td>\n",
       "      <td>Australia</td>\n",
       "    </tr>\n",
       "    <tr>\n",
       "      <th>4</th>\n",
       "      <td>1</td>\n",
       "      <td>2009</td>\n",
       "      <td>Australian Grand Prix</td>\n",
       "      <td>2009-03-29</td>\n",
       "      <td>10</td>\n",
       "      <td>4.0</td>\n",
       "      <td>5660663</td>\n",
       "      <td>53</td>\n",
       "      <td>1</td>\n",
       "      <td>Fernando</td>\n",
       "      <td>Alonso</td>\n",
       "      <td>Spanish</td>\n",
       "      <td>albert_park</td>\n",
       "      <td>Albert Park Grand Prix Circuit</td>\n",
       "      <td>Melbourne</td>\n",
       "      <td>Australia</td>\n",
       "    </tr>\n",
       "  </tbody>\n",
       "</table>\n",
       "</div>"
      ],
      "text/plain": [
       "   raceId  year                 name_x        date  grid  points milliseconds  \\\n",
       "0       1  2009  Australian Grand Prix  2009-03-29     1    10.0      5655784   \n",
       "1       1  2009  Australian Grand Prix  2009-03-29     2     8.0      5656591   \n",
       "2       1  2009  Australian Grand Prix  2009-03-29    20     6.0      5657388   \n",
       "3       1  2009  Australian Grand Prix  2009-03-29    19     5.0      5660219   \n",
       "4       1  2009  Australian Grand Prix  2009-03-29    10     4.0      5660663   \n",
       "\n",
       "  fastestLap  statusId  forename      surname nationality_x   circuitRef  \\\n",
       "0         17         1    Jenson       Button       British  albert_park   \n",
       "1         43         1    Rubens  Barrichello     Brazilian  albert_park   \n",
       "2         50         1     Jarno       Trulli       Italian  albert_park   \n",
       "3         53         1      Timo        Glock        German  albert_park   \n",
       "4         53         1  Fernando       Alonso       Spanish  albert_park   \n",
       "\n",
       "                             name   location    country  \n",
       "0  Albert Park Grand Prix Circuit  Melbourne  Australia  \n",
       "1  Albert Park Grand Prix Circuit  Melbourne  Australia  \n",
       "2  Albert Park Grand Prix Circuit  Melbourne  Australia  \n",
       "3  Albert Park Grand Prix Circuit  Melbourne  Australia  \n",
       "4  Albert Park Grand Prix Circuit  Melbourne  Australia  "
      ]
     },
     "execution_count": 8,
     "metadata": {},
     "output_type": "execute_result"
    }
   ],
   "source": [
    "data.head()"
   ]
  },
  {
   "cell_type": "code",
   "execution_count": 17,
   "metadata": {},
   "outputs": [],
   "source": [
    "data.rename(columns={'name':'GP_name','position_y':'position','grid':'quali_pos','name_y':'constructor','nationality_x':'driver_nationality','nationality_y':'constructor_nationality'},inplace=True)\n",
    "data['driver'] = data['forename']+' '+data['surname']"
   ]
  }
 ],
 "metadata": {
  "kernelspec": {
   "display_name": "myvenv",
   "language": "python",
   "name": "python3"
  },
  "language_info": {
   "codemirror_mode": {
    "name": "ipython",
    "version": 3
   },
   "file_extension": ".py",
   "mimetype": "text/x-python",
   "name": "python",
   "nbconvert_exporter": "python",
   "pygments_lexer": "ipython3",
   "version": "3.12.2"
  }
 },
 "nbformat": 4,
 "nbformat_minor": 2
}
